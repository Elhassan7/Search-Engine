{
 "cells": [
  {
   "cell_type": "code",
   "execution_count": 7,
   "metadata": {},
   "outputs": [],
   "source": [
    "import numpy as np # linear algebra\n",
    "import pandas as pd # data processing, CSV file I/O (e.g. pd.read_csv)\n",
    "import spacy\n",
    "import string\n",
    "import gensim\n",
    "import operator\n",
    "import ast"
   ]
  },
  {
   "cell_type": "code",
   "execution_count": 2,
   "metadata": {},
   "outputs": [],
   "source": [
    "df_Product = pd.read_csv('D:\\INPT2\\Machine Learning\\Search Engine\\Data_Amazon_clean.csv')\n",
    "df_Product = df_Product.drop([\"ss\",\"Unnamed1\"], axis=1)"
   ]
  },
  {
   "cell_type": "code",
   "execution_count": 3,
   "metadata": {},
   "outputs": [
    {
     "data": {
      "text/html": [
       "<div>\n",
       "<style scoped>\n",
       "    .dataframe tbody tr th:only-of-type {\n",
       "        vertical-align: middle;\n",
       "    }\n",
       "\n",
       "    .dataframe tbody tr th {\n",
       "        vertical-align: top;\n",
       "    }\n",
       "\n",
       "    .dataframe thead th {\n",
       "        text-align: right;\n",
       "    }\n",
       "</style>\n",
       "<table border=\"1\" class=\"dataframe\">\n",
       "  <thead>\n",
       "    <tr style=\"text-align: right;\">\n",
       "      <th></th>\n",
       "      <th>name</th>\n",
       "      <th>price</th>\n",
       "      <th>images</th>\n",
       "      <th>rating</th>\n",
       "      <th>product_description</th>\n",
       "      <th>number_of_reviews</th>\n",
       "      <th>name_clean</th>\n",
       "      <th>category_clean</th>\n",
       "    </tr>\n",
       "  </thead>\n",
       "  <tbody>\n",
       "    <tr>\n",
       "      <th>0</th>\n",
       "      <td>Dirt Devil Simpli-Stik Vacuum Cleaner, 3-in-1 ...</td>\n",
       "      <td>$25.37</td>\n",
       "      <td>['https://m.media-amazon.com/images/I/71SXgQ8U...</td>\n",
       "      <td>3.9 out of 5</td>\n",
       "      <td>Home &amp; Kitchen › Vacuums &amp; Floor Care › Vacuum...</td>\n",
       "      <td>25,316 global ratings</td>\n",
       "      <td>['vacuum', 'hand', 'bagless', 'vac', 'devil', ...</td>\n",
       "      <td>['vacuum', 'care', 'floor', 'broom', 'kitchen'...</td>\n",
       "    </tr>\n",
       "    <tr>\n",
       "      <th>1</th>\n",
       "      <td>Tineco Floor ONE S3 Cordless Hardwood Floors C...</td>\n",
       "      <td>$399.99</td>\n",
       "      <td>['https://m.media-amazon.com/images/I/610REMZ7...</td>\n",
       "      <td>4.6 out of 5</td>\n",
       "      <td>Home &amp; Kitchen › Vacuums &amp; Floor Care › Vacuum...</td>\n",
       "      <td>17,684 global ratings</td>\n",
       "      <td>['vacuum', 'multisurfac', 'cordless', 'floor',...</td>\n",
       "      <td>['vacuum', 'care', 'floor', 'broom', 'kitchen'...</td>\n",
       "    </tr>\n",
       "    <tr>\n",
       "      <th>2</th>\n",
       "      <td>Drop PLNT HNGR 4FT 3/8\"12</td>\n",
       "      <td>NaN</td>\n",
       "      <td>['https://m.media-amazon.com/images/I/31GM6ows...</td>\n",
       "      <td>NaN</td>\n",
       "      <td>NaN</td>\n",
       "      <td>NaN</td>\n",
       "      <td>['drop', 'hngr', 'plnt']</td>\n",
       "      <td>['nan']</td>\n",
       "    </tr>\n",
       "  </tbody>\n",
       "</table>\n",
       "</div>"
      ],
      "text/plain": [
       "                                                name    price  \\\n",
       "0  Dirt Devil Simpli-Stik Vacuum Cleaner, 3-in-1 ...   $25.37   \n",
       "1  Tineco Floor ONE S3 Cordless Hardwood Floors C...  $399.99   \n",
       "2                          Drop PLNT HNGR 4FT 3/8\"12      NaN   \n",
       "\n",
       "                                              images        rating  \\\n",
       "0  ['https://m.media-amazon.com/images/I/71SXgQ8U...  3.9 out of 5   \n",
       "1  ['https://m.media-amazon.com/images/I/610REMZ7...  4.6 out of 5   \n",
       "2  ['https://m.media-amazon.com/images/I/31GM6ows...           NaN   \n",
       "\n",
       "                                 product_description      number_of_reviews  \\\n",
       "0  Home & Kitchen › Vacuums & Floor Care › Vacuum...  25,316 global ratings   \n",
       "1  Home & Kitchen › Vacuums & Floor Care › Vacuum...  17,684 global ratings   \n",
       "2                                                NaN                    NaN   \n",
       "\n",
       "                                          name_clean  \\\n",
       "0  ['vacuum', 'hand', 'bagless', 'vac', 'devil', ...   \n",
       "1  ['vacuum', 'multisurfac', 'cordless', 'floor',...   \n",
       "2                           ['drop', 'hngr', 'plnt']   \n",
       "\n",
       "                                      category_clean  \n",
       "0  ['vacuum', 'care', 'floor', 'broom', 'kitchen'...  \n",
       "1  ['vacuum', 'care', 'floor', 'broom', 'kitchen'...  \n",
       "2                                            ['nan']  "
      ]
     },
     "execution_count": 3,
     "metadata": {},
     "output_type": "execute_result"
    }
   ],
   "source": [
    "df_Product.head(3)"
   ]
  },
  {
   "cell_type": "code",
   "execution_count": 13,
   "metadata": {},
   "outputs": [
    {
     "name": "stdout",
     "output_type": "stream",
     "text": [
      "Cleaning and Tokenizing...\n"
     ]
    },
    {
     "data": {
      "text/html": [
       "<div>\n",
       "<style scoped>\n",
       "    .dataframe tbody tr th:only-of-type {\n",
       "        vertical-align: middle;\n",
       "    }\n",
       "\n",
       "    .dataframe tbody tr th {\n",
       "        vertical-align: top;\n",
       "    }\n",
       "\n",
       "    .dataframe thead th {\n",
       "        text-align: right;\n",
       "    }\n",
       "</style>\n",
       "<table border=\"1\" class=\"dataframe\">\n",
       "  <thead>\n",
       "    <tr style=\"text-align: right;\">\n",
       "      <th></th>\n",
       "      <th>name</th>\n",
       "      <th>price</th>\n",
       "      <th>images</th>\n",
       "      <th>rating</th>\n",
       "      <th>product_description</th>\n",
       "      <th>number_of_reviews</th>\n",
       "      <th>name_clean</th>\n",
       "      <th>category_clean</th>\n",
       "      <th>Prod_info</th>\n",
       "    </tr>\n",
       "  </thead>\n",
       "  <tbody>\n",
       "    <tr>\n",
       "      <th>0</th>\n",
       "      <td>Dirt Devil Simpli-Stik Vacuum Cleaner, 3-in-1 ...</td>\n",
       "      <td>$25.37</td>\n",
       "      <td>['https://m.media-amazon.com/images/I/71SXgQ8U...</td>\n",
       "      <td>3.9 out of 5</td>\n",
       "      <td>Home &amp; Kitchen › Vacuums &amp; Floor Care › Vacuum...</td>\n",
       "      <td>25,316 global ratings</td>\n",
       "      <td>['vacuum', 'hand', 'bagless', 'vac', 'devil', ...</td>\n",
       "      <td>['vacuum', 'care', 'floor', 'broom', 'kitchen'...</td>\n",
       "      <td>[hand, bagless, simplistik, vacuum, home, elec...</td>\n",
       "    </tr>\n",
       "    <tr>\n",
       "      <th>1</th>\n",
       "      <td>Tineco Floor ONE S3 Cordless Hardwood Floors C...</td>\n",
       "      <td>$399.99</td>\n",
       "      <td>['https://m.media-amazon.com/images/I/610REMZ7...</td>\n",
       "      <td>4.6 out of 5</td>\n",
       "      <td>Home &amp; Kitchen › Vacuums &amp; Floor Care › Vacuum...</td>\n",
       "      <td>17,684 global ratings</td>\n",
       "      <td>['vacuum', 'multisurfac', 'cordless', 'floor',...</td>\n",
       "      <td>['vacuum', 'care', 'floor', 'broom', 'kitchen'...</td>\n",
       "      <td>[tineco, wet, smart, control, clean, broom, co...</td>\n",
       "    </tr>\n",
       "    <tr>\n",
       "      <th>2</th>\n",
       "      <td>Drop PLNT HNGR 4FT 3/8\"12</td>\n",
       "      <td>NaN</td>\n",
       "      <td>['https://m.media-amazon.com/images/I/31GM6ows...</td>\n",
       "      <td>NaN</td>\n",
       "      <td>NaN</td>\n",
       "      <td>NaN</td>\n",
       "      <td>['drop', 'hngr', 'plnt']</td>\n",
       "      <td>['nan']</td>\n",
       "      <td>[drop, nan, hngr, plnt]</td>\n",
       "    </tr>\n",
       "    <tr>\n",
       "      <th>3</th>\n",
       "      <td>Cuisinart Waffle Maker, Double Belgian, Stainl...</td>\n",
       "      <td>$119.95</td>\n",
       "      <td>['https://m.media-amazon.com/images/I/81RjZKgQ...</td>\n",
       "      <td>4.8 out of 5</td>\n",
       "      <td>Home &amp; Kitchen › Kitchen &amp; Dining › Small Appl...</td>\n",
       "      <td>13,004 global ratings</td>\n",
       "      <td>['steel', 'belgian', 'waffl', 'cuisinart', 'ma...</td>\n",
       "      <td>['applianc', 'waffl', 'kitchen', 'home', 'dine...</td>\n",
       "      <td>[small, steel, stainless, waffl, home, dine, i...</td>\n",
       "    </tr>\n",
       "    <tr>\n",
       "      <th>4</th>\n",
       "      <td>Waterdrop DA29-00020B Refrigerator Water Filte...</td>\n",
       "      <td>$28.09</td>\n",
       "      <td>['https://m.media-amazon.com/images/I/71apo-WS...</td>\n",
       "      <td>4.7 out of 5</td>\n",
       "      <td>Appliances › Parts &amp; Accessories › Refrigerato...</td>\n",
       "      <td>3,070 global ratings</td>\n",
       "      <td>['pack', 'water', 'refriger', 'hafcinexp', 're...</td>\n",
       "      <td>['applianc', 'water', 'refriger', 'accessori',...</td>\n",
       "      <td>[replac, waterdrop, hafcinexp, refriger, water...</td>\n",
       "    </tr>\n",
       "  </tbody>\n",
       "</table>\n",
       "</div>"
      ],
      "text/plain": [
       "                                                name    price  \\\n",
       "0  Dirt Devil Simpli-Stik Vacuum Cleaner, 3-in-1 ...   $25.37   \n",
       "1  Tineco Floor ONE S3 Cordless Hardwood Floors C...  $399.99   \n",
       "2                          Drop PLNT HNGR 4FT 3/8\"12      NaN   \n",
       "3  Cuisinart Waffle Maker, Double Belgian, Stainl...  $119.95   \n",
       "4  Waterdrop DA29-00020B Refrigerator Water Filte...   $28.09   \n",
       "\n",
       "                                              images        rating  \\\n",
       "0  ['https://m.media-amazon.com/images/I/71SXgQ8U...  3.9 out of 5   \n",
       "1  ['https://m.media-amazon.com/images/I/610REMZ7...  4.6 out of 5   \n",
       "2  ['https://m.media-amazon.com/images/I/31GM6ows...           NaN   \n",
       "3  ['https://m.media-amazon.com/images/I/81RjZKgQ...  4.8 out of 5   \n",
       "4  ['https://m.media-amazon.com/images/I/71apo-WS...  4.7 out of 5   \n",
       "\n",
       "                                 product_description      number_of_reviews  \\\n",
       "0  Home & Kitchen › Vacuums & Floor Care › Vacuum...  25,316 global ratings   \n",
       "1  Home & Kitchen › Vacuums & Floor Care › Vacuum...  17,684 global ratings   \n",
       "2                                                NaN                    NaN   \n",
       "3  Home & Kitchen › Kitchen & Dining › Small Appl...  13,004 global ratings   \n",
       "4  Appliances › Parts & Accessories › Refrigerato...   3,070 global ratings   \n",
       "\n",
       "                                          name_clean  \\\n",
       "0  ['vacuum', 'hand', 'bagless', 'vac', 'devil', ...   \n",
       "1  ['vacuum', 'multisurfac', 'cordless', 'floor',...   \n",
       "2                           ['drop', 'hngr', 'plnt']   \n",
       "3  ['steel', 'belgian', 'waffl', 'cuisinart', 'ma...   \n",
       "4  ['pack', 'water', 'refriger', 'hafcinexp', 're...   \n",
       "\n",
       "                                      category_clean  \\\n",
       "0  ['vacuum', 'care', 'floor', 'broom', 'kitchen'...   \n",
       "1  ['vacuum', 'care', 'floor', 'broom', 'kitchen'...   \n",
       "2                                            ['nan']   \n",
       "3  ['applianc', 'waffl', 'kitchen', 'home', 'dine...   \n",
       "4  ['applianc', 'water', 'refriger', 'accessori',...   \n",
       "\n",
       "                                           Prod_info  \n",
       "0  [hand, bagless, simplistik, vacuum, home, elec...  \n",
       "1  [tineco, wet, smart, control, clean, broom, co...  \n",
       "2                            [drop, nan, hngr, plnt]  \n",
       "3  [small, steel, stainless, waffl, home, dine, i...  \n",
       "4  [replac, waterdrop, hafcinexp, refriger, water...  "
      ]
     },
     "execution_count": 13,
     "metadata": {},
     "output_type": "execute_result"
    }
   ],
   "source": [
    "print ('Cleaning and Tokenizing...')\n",
    "#pd.concat([df_Product[\"name_clean\"],df_Product[\"category_clean\"]],axis=1)\n",
    "\n",
    "df_Product[\"Prod_info\"]=pd.DataFrame([i for i in df_Product[\"name_clean\"]+df_Product[\"category_clean\"]])\n",
    "df_Product[\"Prod_info\"]=df_Product[\"Prod_info\"].apply(lambda x: list(set(ast.literal_eval(str(x).replace(\"][\",',')))))\n",
    "df_Product.head()"
   ]
  },
  {
   "cell_type": "code",
   "execution_count": 14,
   "metadata": {},
   "outputs": [
    {
     "data": {
      "text/plain": [
       "0    [hand, bagless, simplistik, vacuum, home, elec...\n",
       "1    [tineco, wet, smart, control, clean, broom, co...\n",
       "2                              [drop, nan, hngr, plnt]\n",
       "3    [small, steel, stainless, waffl, home, dine, i...\n",
       "4    [replac, waterdrop, hafcinexp, refriger, water...\n",
       "Name: Prod_info, dtype: object"
      ]
     },
     "execution_count": 14,
     "metadata": {},
     "output_type": "execute_result"
    }
   ],
   "source": [
    "product_plot = df_Product[\"Prod_info\"]\n",
    "product_plot[0:5]"
   ]
  },
  {
   "cell_type": "code",
   "execution_count": 15,
   "metadata": {},
   "outputs": [],
   "source": [
    "from gensim import corpora\n",
    "\n",
    "#creating term dictionary\n",
    "dictionary = corpora.Dictionary(product_plot)\n",
    "\n",
    "#filter out terms which occurs in less than 4 documents and more than 20% of the documents.\n",
    "# NOTE: Since we have smaller dataset, we will keep this commented for now.\n",
    "\n",
    "#dictionary.filter_extremes(no_below=4, no_above=0.2)\n",
    "\n",
    "#list of few which which can be further removed\n",
    "stoplist = set('hello and if this can would should could tell ask stop come go')\n",
    "stop_ids = [dictionary.token2id[stopword] for stopword in stoplist if stopword in dictionary.token2id]\n",
    "dictionary.filter_tokens(stop_ids)"
   ]
  },
  {
   "cell_type": "code",
   "execution_count": 16,
   "metadata": {},
   "outputs": [
    {
     "name": "stdout",
     "output_type": "stream",
     "text": [
      "[[['bagless', 0], ['broom', 1], ['care', 2], ['cleaner', 3], ['devil', 4], ['dirt', 5], ['electr', 6], ['floor', 7], ['hand', 8], ['home', 9], ['kitchen', 10], ['lightweight', 11], ['red', 12], ['simplistik', 13], ['small', 14], ['stick', 15], ['vac', 16], ['vacuum', 17], ['clean', 18], ['control', 19], ['cordless', 20], ['dri', 21], ['hardwood', 22], ['multisurfac', 23], ['one', 24], ['smart', 25], ['system', 26], ['tineco', 27], ['wet', 28], ['drop', 29], ['hngr', 30], ['nan', 31], ['plnt', 32], ['applianc', 33], ['belgian', 34], ['cuisinart', 35], ['dine', 36], ['doubl', 37], ['iron', 38], ['maker', 39], ['stainless', 40], ['steel', 41], ['waffl', 42], ['accessori', 43], ['filter', 44], ['hafcinexp', 45], ['pack', 46], ['part', 47], ['refriger', 48], ['replac', 49], ['samsung', 50]]]\n"
     ]
    }
   ],
   "source": [
    "#print top 50 items from the dictionary with their unique token-id\n",
    "dict_tokens = [[[dictionary[key], dictionary.token2id[dictionary[key]]] for key, value in dictionary.items() if key <= 50]]\n",
    "print (dict_tokens)"
   ]
  },
  {
   "cell_type": "code",
   "execution_count": 18,
   "metadata": {},
   "outputs": [
    {
     "name": "stdout",
     "output_type": "stream",
     "text": [
      "[[('bagless', 1), ('broom', 1), ('care', 1), ('cleaner', 1), ('devil', 1), ('dirt', 1), ('electr', 1), ('floor', 1), ('hand', 1), ('home', 1), ('kitchen', 1), ('lightweight', 1), ('red', 1), ('simplistik', 1), ('small', 1), ('stick', 1), ('vac', 1), ('vacuum', 1)], [('broom', 1), ('care', 1), ('cleaner', 1), ('electr', 1), ('floor', 1), ('home', 1), ('kitchen', 1), ('lightweight', 1), ('stick', 1), ('vacuum', 1), ('clean', 1), ('control', 1), ('cordless', 1), ('dri', 1), ('hardwood', 1), ('multisurfac', 1), ('one', 1), ('smart', 1), ('system', 1), ('tineco', 1), ('wet', 1)], [('drop', 1), ('hngr', 1), ('nan', 1), ('plnt', 1)]]\n"
     ]
    }
   ],
   "source": [
    "corpus = [dictionary.doc2bow(desc) for desc in product_plot]\n",
    "\n",
    "word_frequencies = [[(dictionary[id], frequency) for id, frequency in line] for line in corpus[0:3]]\n",
    "\n",
    "print(word_frequencies)"
   ]
  },
  {
   "cell_type": "code",
   "execution_count": 19,
   "metadata": {},
   "outputs": [],
   "source": [
    "movie_tfidf_model = gensim.models.TfidfModel(corpus, id2word=dictionary)\n",
    "movie_lsi_model = gensim.models.LsiModel(movie_tfidf_model[corpus], id2word=dictionary, num_topics=300)"
   ]
  },
  {
   "cell_type": "code",
   "execution_count": 20,
   "metadata": {},
   "outputs": [],
   "source": [
    "gensim.corpora.MmCorpus.serialize('movie_tfidf_model_mm', movie_tfidf_model[corpus])\n",
    "gensim.corpora.MmCorpus.serialize('movie_lsi_model_mm',movie_lsi_model[movie_tfidf_model[corpus]])"
   ]
  },
  {
   "cell_type": "code",
   "execution_count": 21,
   "metadata": {},
   "outputs": [
    {
     "name": "stdout",
     "output_type": "stream",
     "text": [
      "MmCorpus(292 documents, 1552 features, 5183 non-zero entries)\n",
      "MmCorpus(292 documents, 268 features, 77966 non-zero entries)\n"
     ]
    }
   ],
   "source": [
    "#Load the indexed corpus\n",
    "movie_tfidf_corpus = gensim.corpora.MmCorpus('movie_tfidf_model_mm')\n",
    "movie_lsi_corpus = gensim.corpora.MmCorpus('movie_lsi_model_mm')\n",
    "\n",
    "print(movie_tfidf_corpus)\n",
    "print(movie_lsi_corpus)"
   ]
  },
  {
   "cell_type": "code",
   "execution_count": 22,
   "metadata": {},
   "outputs": [
    {
     "name": "stdout",
     "output_type": "stream",
     "text": [
      "CPU times: total: 141 ms\n",
      "Wall time: 198 ms\n"
     ]
    }
   ],
   "source": [
    "from gensim.similarities import MatrixSimilarity\n",
    "\n",
    "%time movie_index = MatrixSimilarity(movie_lsi_corpus, num_features = movie_lsi_corpus.num_terms)"
   ]
  },
  {
   "cell_type": "code",
   "execution_count": 23,
   "metadata": {},
   "outputs": [],
   "source": [
    "from operator import itemgetter"
   ]
  },
  {
   "cell_type": "code",
   "execution_count": 30,
   "metadata": {},
   "outputs": [],
   "source": [
    "spacy_nlp = spacy.load('en_core_web_sm')\n",
    "\n",
    "#create list of punctuations and stopwords\n",
    "punctuations = string.punctuation\n",
    "stop_words = spacy.lang.en.stop_words.STOP_WORDS\n",
    "\n",
    "#function for data cleaning and processing\n",
    "#This can be further enhanced by adding / removing reg-exps as desired.\n",
    "\n",
    "def spacy_tokenizer(sentence):\n",
    " \n",
    "    #remove distracting single quotes\n",
    "    sentence = re.sub('\\'','',sentence)\n",
    "\n",
    "    #remove digits adnd words containing digits\n",
    "    sentence = re.sub('\\w*\\d\\w*','',sentence)\n",
    "\n",
    "    #replace extra spaces with single space\n",
    "    sentence = re.sub(' +',' ',sentence)\n",
    "\n",
    "    #remove unwanted lines starting from special charcters\n",
    "    sentence = re.sub(r'\\n: \\'\\'.*','',sentence)\n",
    "    sentence = re.sub(r'\\n!.*','',sentence)\n",
    "    sentence = re.sub(r'^:\\'\\'.*','',sentence)\n",
    "    \n",
    "    #remove non-breaking new line characters\n",
    "    sentence = re.sub(r'\\n',' ',sentence)\n",
    "    \n",
    "    #remove punctunations\n",
    "    sentence = re.sub(r'[^\\w\\s]',' ',sentence)\n",
    "    \n",
    "    #creating token object\n",
    "    tokens = spacy_nlp(sentence)\n",
    "    \n",
    "    #lower, strip and lemmatize\n",
    "    tokens = [word.lemma_.lower().strip() if word.lemma_ != \"-PRON-\" else word.lower_ for word in tokens]\n",
    "    \n",
    "    #remove stopwords, and exclude words less than 2 characters\n",
    "    tokens = [word for word in tokens if word not in stop_words and word not in punctuations and len(word) > 2]\n",
    "    \n",
    "    #return tokens\n",
    "    return tokens"
   ]
  },
  {
   "cell_type": "code",
   "execution_count": 40,
   "metadata": {},
   "outputs": [],
   "source": [
    "\n",
    "def search_similar_products(search_term):\n",
    "\n",
    "    query_bow = dictionary.doc2bow(spacy_tokenizer(search_term))\n",
    "    query_tfidf = movie_tfidf_model[query_bow]\n",
    "    query_lsi = movie_lsi_model[query_tfidf]\n",
    "\n",
    "    movie_index.num_best = 5\n",
    "\n",
    "    movies_list = movie_index[query_lsi]\n",
    "\n",
    "    movies_list.sort(key=itemgetter(1), reverse=True)\n",
    "    movie_names = []\n",
    "\n",
    "    for j, movie in enumerate(movies_list):\n",
    "\n",
    "        movie_names.append (\n",
    "            {\n",
    "                'Relevance': round((movie[1] * 100),2),\n",
    "                'Movie Title': df_Product['name'][movie[0]],\n",
    "                'images': df_Product['images'][movie[0]]\n",
    "            }\n",
    "\n",
    "        )\n",
    "        if j == (movie_index.num_best-1):\n",
    "            break\n",
    "\n",
    "    return pd.DataFrame(movie_names, columns=['Relevance','Movie Title','images'])"
   ]
  },
  {
   "cell_type": "code",
   "execution_count": 42,
   "metadata": {},
   "outputs": [],
   "source": [
    "pd.set_option('display.max_colwidth', None)"
   ]
  },
  {
   "cell_type": "code",
   "execution_count": 50,
   "metadata": {},
   "outputs": [
    {
     "data": {
      "text/html": [
       "<div>\n",
       "<style scoped>\n",
       "    .dataframe tbody tr th:only-of-type {\n",
       "        vertical-align: middle;\n",
       "    }\n",
       "\n",
       "    .dataframe tbody tr th {\n",
       "        vertical-align: top;\n",
       "    }\n",
       "\n",
       "    .dataframe thead th {\n",
       "        text-align: right;\n",
       "    }\n",
       "</style>\n",
       "<table border=\"1\" class=\"dataframe\">\n",
       "  <thead>\n",
       "    <tr style=\"text-align: right;\">\n",
       "      <th></th>\n",
       "      <th>Relevance</th>\n",
       "      <th>Movie Title</th>\n",
       "      <th>images</th>\n",
       "    </tr>\n",
       "  </thead>\n",
       "  <tbody>\n",
       "    <tr>\n",
       "      <th>0</th>\n",
       "      <td>51.33</td>\n",
       "      <td>Samsung Dryer Belt 6602-001655</td>\n",
       "      <td>['https://m.media-amazon.com/images/I/61Pw4Nzu32L._AC_SX355_.jpg', 'https://m.media-amazon.com/images/I/61Pw4Nzu32L._AC_SX569_.jpg', 'https://m.media-amazon.com/images/I/61Pw4Nzu32L._AC_SX425_.jpg', 'https://m.media-amazon.com/images/I/61Pw4Nzu32L._AC_SX466_.jpg', 'https://m.media-amazon.com/images/I/61Pw4Nzu32L._AC_SX679_.jpg', 'https://m.media-amazon.com/images/I/61Pw4Nzu32L._AC_SX450_.jpg', 'https://m.media-amazon.com/images/I/61Pw4Nzu32L._AC_SX522_.jpg']</td>\n",
       "    </tr>\n",
       "    <tr>\n",
       "      <th>1</th>\n",
       "      <td>47.01</td>\n",
       "      <td>USB C Car Charger, 2Pack 30W Type C Fast Charging Cigarette Lighter Adapter for iPhone 13 Pro Max/12 Pro Max/Mini/SE/11 Pro Max/XR/XS/X/8,Samsung Galaxy S22 S21 S20 A12 A32 A42,Pixel 6 Pro 5 4 3A 3XL</td>\n",
       "      <td>['https://m.media-amazon.com/images/I/61-0rY-+USS._AC_SX425_.jpg', 'https://m.media-amazon.com/images/I/61-0rY-+USS._AC_SX522_.jpg', 'https://m.media-amazon.com/images/I/61-0rY-+USS._AC_SX569_.jpg', 'https://m.media-amazon.com/images/I/61-0rY-+USS._AC_SX385_.jpg', 'https://m.media-amazon.com/images/I/61-0rY-+USS._AC_SX679_.jpg', 'https://m.media-amazon.com/images/I/61-0rY-+USS._AC_SX342_.jpg', 'https://m.media-amazon.com/images/I/61-0rY-+USS._AC_SX466_.jpg']</td>\n",
       "    </tr>\n",
       "    <tr>\n",
       "      <th>2</th>\n",
       "      <td>41.04</td>\n",
       "      <td>Temdan for Samsung Galaxy S22 Ultra Case Waterproof, Built in Screen Protector 360° Full Body Heavy Duty Shockproof IP68 Waterproof Galaxy S22 Ultra Case for Samsung S22 Ultra 5G 6.8 inch</td>\n",
       "      <td>['https://m.media-amazon.com/images/I/81e16yiwYPL._AC_SX425_.jpg', 'https://m.media-amazon.com/images/I/81e16yiwYPL._AC_SX522_.jpg', 'https://m.media-amazon.com/images/I/81e16yiwYPL._AC_SX569_.jpg', 'https://m.media-amazon.com/images/I/81e16yiwYPL._AC_SX466_.jpg', 'https://m.media-amazon.com/images/I/81e16yiwYPL._AC_SX342_.jpg', 'https://m.media-amazon.com/images/I/81e16yiwYPL._AC_SX679_.jpg', 'https://m.media-amazon.com/images/I/81e16yiwYPL._AC_SX385_.jpg']</td>\n",
       "    </tr>\n",
       "    <tr>\n",
       "      <th>3</th>\n",
       "      <td>41.04</td>\n",
       "      <td>Temdan for Samsung Galaxy S22 Ultra Case Waterproof, Built in Screen Protector 360° Full Body Heavy Duty Shockproof IP68 Waterproof Galaxy S22 Ultra Case for Samsung S22 Ultra 5G 6.8 inch</td>\n",
       "      <td>['https://m.media-amazon.com/images/I/716avFNvAcL._AC_SX425_.jpg', 'https://m.media-amazon.com/images/I/716avFNvAcL._AC_SX385_.jpg', 'https://m.media-amazon.com/images/I/716avFNvAcL._AC_SX569_.jpg', 'https://m.media-amazon.com/images/I/716avFNvAcL._AC_SX342_.jpg', 'https://m.media-amazon.com/images/I/716avFNvAcL._AC_SX466_.jpg', 'https://m.media-amazon.com/images/I/716avFNvAcL._AC_SX679_.jpg', 'https://m.media-amazon.com/images/I/716avFNvAcL._AC_SX522_.jpg']</td>\n",
       "    </tr>\n",
       "    <tr>\n",
       "      <th>4</th>\n",
       "      <td>41.04</td>\n",
       "      <td>Temdan for Samsung Galaxy S22 Ultra Case Waterproof, Built in Screen Protector 360° Full Body Heavy Duty Shockproof IP68 Waterproof Galaxy S22 Ultra Case for Samsung S22 Ultra 5G 6.8 inch</td>\n",
       "      <td>['https://m.media-amazon.com/images/I/71BxFojdSIL._AC_SX385_.jpg', 'https://m.media-amazon.com/images/I/71BxFojdSIL._AC_SX466_.jpg', 'https://m.media-amazon.com/images/I/71BxFojdSIL._AC_SX342_.jpg', 'https://m.media-amazon.com/images/I/71BxFojdSIL._AC_SX679_.jpg', 'https://m.media-amazon.com/images/I/71BxFojdSIL._AC_SX522_.jpg', 'https://m.media-amazon.com/images/I/71BxFojdSIL._AC_SX425_.jpg', 'https://m.media-amazon.com/images/I/71BxFojdSIL._AC_SX569_.jpg']</td>\n",
       "    </tr>\n",
       "  </tbody>\n",
       "</table>\n",
       "</div>"
      ],
      "text/plain": [
       "   Relevance  \\\n",
       "0      51.33   \n",
       "1      47.01   \n",
       "2      41.04   \n",
       "3      41.04   \n",
       "4      41.04   \n",
       "\n",
       "                                                                                                                                                                                               Movie Title  \\\n",
       "0                                                                                                                                                                           Samsung Dryer Belt 6602-001655   \n",
       "1  USB C Car Charger, 2Pack 30W Type C Fast Charging Cigarette Lighter Adapter for iPhone 13 Pro Max/12 Pro Max/Mini/SE/11 Pro Max/XR/XS/X/8,Samsung Galaxy S22 S21 S20 A12 A32 A42,Pixel 6 Pro 5 4 3A 3XL   \n",
       "2              Temdan for Samsung Galaxy S22 Ultra Case Waterproof, Built in Screen Protector 360° Full Body Heavy Duty Shockproof IP68 Waterproof Galaxy S22 Ultra Case for Samsung S22 Ultra 5G 6.8 inch   \n",
       "3              Temdan for Samsung Galaxy S22 Ultra Case Waterproof, Built in Screen Protector 360° Full Body Heavy Duty Shockproof IP68 Waterproof Galaxy S22 Ultra Case for Samsung S22 Ultra 5G 6.8 inch   \n",
       "4              Temdan for Samsung Galaxy S22 Ultra Case Waterproof, Built in Screen Protector 360° Full Body Heavy Duty Shockproof IP68 Waterproof Galaxy S22 Ultra Case for Samsung S22 Ultra 5G 6.8 inch   \n",
       "\n",
       "                                                                                                                                                                                                                                                                                                                                                                                                                                                                           images  \n",
       "0  ['https://m.media-amazon.com/images/I/61Pw4Nzu32L._AC_SX355_.jpg', 'https://m.media-amazon.com/images/I/61Pw4Nzu32L._AC_SX569_.jpg', 'https://m.media-amazon.com/images/I/61Pw4Nzu32L._AC_SX425_.jpg', 'https://m.media-amazon.com/images/I/61Pw4Nzu32L._AC_SX466_.jpg', 'https://m.media-amazon.com/images/I/61Pw4Nzu32L._AC_SX679_.jpg', 'https://m.media-amazon.com/images/I/61Pw4Nzu32L._AC_SX450_.jpg', 'https://m.media-amazon.com/images/I/61Pw4Nzu32L._AC_SX522_.jpg']  \n",
       "1  ['https://m.media-amazon.com/images/I/61-0rY-+USS._AC_SX425_.jpg', 'https://m.media-amazon.com/images/I/61-0rY-+USS._AC_SX522_.jpg', 'https://m.media-amazon.com/images/I/61-0rY-+USS._AC_SX569_.jpg', 'https://m.media-amazon.com/images/I/61-0rY-+USS._AC_SX385_.jpg', 'https://m.media-amazon.com/images/I/61-0rY-+USS._AC_SX679_.jpg', 'https://m.media-amazon.com/images/I/61-0rY-+USS._AC_SX342_.jpg', 'https://m.media-amazon.com/images/I/61-0rY-+USS._AC_SX466_.jpg']  \n",
       "2  ['https://m.media-amazon.com/images/I/81e16yiwYPL._AC_SX425_.jpg', 'https://m.media-amazon.com/images/I/81e16yiwYPL._AC_SX522_.jpg', 'https://m.media-amazon.com/images/I/81e16yiwYPL._AC_SX569_.jpg', 'https://m.media-amazon.com/images/I/81e16yiwYPL._AC_SX466_.jpg', 'https://m.media-amazon.com/images/I/81e16yiwYPL._AC_SX342_.jpg', 'https://m.media-amazon.com/images/I/81e16yiwYPL._AC_SX679_.jpg', 'https://m.media-amazon.com/images/I/81e16yiwYPL._AC_SX385_.jpg']  \n",
       "3  ['https://m.media-amazon.com/images/I/716avFNvAcL._AC_SX425_.jpg', 'https://m.media-amazon.com/images/I/716avFNvAcL._AC_SX385_.jpg', 'https://m.media-amazon.com/images/I/716avFNvAcL._AC_SX569_.jpg', 'https://m.media-amazon.com/images/I/716avFNvAcL._AC_SX342_.jpg', 'https://m.media-amazon.com/images/I/716avFNvAcL._AC_SX466_.jpg', 'https://m.media-amazon.com/images/I/716avFNvAcL._AC_SX679_.jpg', 'https://m.media-amazon.com/images/I/716avFNvAcL._AC_SX522_.jpg']  \n",
       "4  ['https://m.media-amazon.com/images/I/71BxFojdSIL._AC_SX385_.jpg', 'https://m.media-amazon.com/images/I/71BxFojdSIL._AC_SX466_.jpg', 'https://m.media-amazon.com/images/I/71BxFojdSIL._AC_SX342_.jpg', 'https://m.media-amazon.com/images/I/71BxFojdSIL._AC_SX679_.jpg', 'https://m.media-amazon.com/images/I/71BxFojdSIL._AC_SX522_.jpg', 'https://m.media-amazon.com/images/I/71BxFojdSIL._AC_SX425_.jpg', 'https://m.media-amazon.com/images/I/71BxFojdSIL._AC_SX569_.jpg']  "
      ]
     },
     "execution_count": 50,
     "metadata": {},
     "output_type": "execute_result"
    }
   ],
   "source": [
    "# search for products tiles that are related to below search parameters\n",
    "search_similar_products('phone samsung')"
   ]
  }
 ],
 "metadata": {
  "interpreter": {
   "hash": "5d240ba0dc525c389faa33f5dcce5b4f32b6d6aa6d70d6d2dd929bd2b09ab69f"
  },
  "kernelspec": {
   "display_name": "Python 3.10.2 64-bit",
   "language": "python",
   "name": "python3"
  },
  "language_info": {
   "codemirror_mode": {
    "name": "ipython",
    "version": 3
   },
   "file_extension": ".py",
   "mimetype": "text/x-python",
   "name": "python",
   "nbconvert_exporter": "python",
   "pygments_lexer": "ipython3",
   "version": "3.10.2"
  },
  "orig_nbformat": 4
 },
 "nbformat": 4,
 "nbformat_minor": 2
}
